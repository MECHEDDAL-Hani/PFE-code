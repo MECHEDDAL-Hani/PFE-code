{
 "cells": [
  {
   "cell_type": "code",
   "execution_count": 1,
   "metadata": {},
   "outputs": [],
   "source": [
    "import sqlite3\n",
    "from sqlite3 import Error\n",
    "\n",
    "class SQLite:\n",
    "    \"\"\"handel sqlite database\"\"\"\n",
    "\n",
    "    def __init__(self,\n",
    "                 connection=r\"db.db\",\n",
    "                 machine=\"Machine Hani Linux\",):\n",
    "\n",
    "        self.connection = SQLite.create_connection_sqlite(connection)\n",
    "        self.machine = machine\n",
    "        \n",
    "    @staticmethod\n",
    "    def create_connection_sqlite(db_file):\n",
    "        \"\"\" create a database connection to a SQLite database \"\"\"\n",
    "\n",
    "        connection = None\n",
    "        try:\n",
    "            connection = sqlite3.connect(db_file)\n",
    "            return connection\n",
    "        except Error as error:\n",
    "            print(error)\n",
    "            return connection\n",
    "\n",
    "    def create_results_table(self):\n",
    "        \"\"\" Create results table \"\"\"\n",
    "\n",
    "        try:\n",
    "            sql_create_results_table = \"\"\"CREATE TABLE IF NOT EXISTS \"results\" (\n",
    "                                            \"id\" INTEGER,\n",
    "                                            \"query\" TEXT,\n",
    "                                            \"time\" INTEGER,\n",
    "                                            \"number_documents_returned\" INTEGER,\n",
    "                                            \"ixscan\" INTEGER,\n",
    "                                            \"index_keys_examined\" INTEGER,\n",
    "                                            \"fetch\" INTEGER,\n",
    "                                            \"documents_examined\" TEXT,\n",
    "                                            \"case\" TEXT,\n",
    "                                            \"machine\" TEXT,\n",
    "                                            PRIMARY KEY(\"id\" AUTOINCREMENT)\n",
    "                                        );\"\"\"\n",
    "            cursor = self.connection.cursor()\n",
    "            cursor.execute(sql_create_results_table)\n",
    "        except Error as error:\n",
    "            print(error)\n",
    "    \n",
    "    def select_avg_result(self, query, case, machine=\"Machine Hani Linux\"):\n",
    "        \"\"\"select all result of a query and machine and return avg time\"\"\"\n",
    "\n",
    "        cursor = self.connection.cursor()\n",
    "        sql_select_result = f\"\"\"SELECT\n",
    "                                avg(time)\n",
    "                            FROM\n",
    "                                results\n",
    "                            WHERE\n",
    "                                results.queryy = \"{query}\"\n",
    "                            AND\n",
    "                                results.casee = \"{case}\"\n",
    "                            AND\n",
    "                                results.machine = \"{machine}\";\n",
    "                                \"\"\"\n",
    "        # # \"\"\" SELECT\n",
    "        #                             avg(time)\n",
    "        #                         FROM\n",
    "        #                             results\n",
    "        #                         WHERE\n",
    "        #                             queryy = ?\n",
    "        #                         AND\n",
    "        #                             machine = ?\n",
    "        #                         AND\n",
    "        #                             casee = ?\n",
    "        #                             ;\"\"\"\n",
    "        # cursor.execute(sql_select_result, [query, machine, case])\n",
    "        print(sql_select_result)\n",
    "        cursor.execute(sql_select_result)\n",
    "        rows = cursor.fetchone()\n",
    "\n",
    "        print(rows)\n",
    "        \n",
    "        return rows[0]\n"
   ]
  },
  {
   "cell_type": "code",
   "execution_count": 2,
   "metadata": {},
   "outputs": [
    {
     "name": "stdout",
     "output_type": "stream",
     "text": [
      "SELECT\n",
      "                                avg(time)\n",
      "                            FROM\n",
      "                                results\n",
      "                            WHERE\n",
      "                                results.queryy = \"Query 1\"\n",
      "                            AND\n",
      "                                results.casee = \"case 1\"\n",
      "                            AND\n",
      "                                results.machine = \"Machine Hani Linux\";\n",
      "                                \n",
      "(1715.5,)\n",
      "SELECT\n",
      "                                avg(time)\n",
      "                            FROM\n",
      "                                results\n",
      "                            WHERE\n",
      "                                results.queryy = \"Query 1\"\n",
      "                            AND\n",
      "                                results.casee = \"case 2\"\n",
      "                            AND\n",
      "                                results.machine = \"Machine Hani Linux\";\n",
      "                                \n",
      "(34.45,)\n",
      "SELECT\n",
      "                                avg(time)\n",
      "                            FROM\n",
      "                                results\n",
      "                            WHERE\n",
      "                                results.queryy = \"Query 1\"\n",
      "                            AND\n",
      "                                results.casee = \"case 3\"\n",
      "                            AND\n",
      "                                results.machine = \"Machine Hani Linux\";\n",
      "                                \n",
      "(27.55,)\n",
      "SELECT\n",
      "                                avg(time)\n",
      "                            FROM\n",
      "                                results\n",
      "                            WHERE\n",
      "                                results.queryy = \"Query 1\"\n",
      "                            AND\n",
      "                                results.casee = \"case 4\"\n",
      "                            AND\n",
      "                                results.machine = \"Machine Hani Linux\";\n",
      "                                \n",
      "(27.95,)\n"
     ]
    },
    {
     "data": {
      "image/png": "[encoded data removed]",
      "text/plain": [
       "<Figure size 432x288 with 1 Axes>"
      ]
     },
     "metadata": {
      "needs_background": "light"
     },
     "output_type": "display_data"
    }
   ],
   "source": [
    "from matplotlib import pyplot as plt\n",
    "import pandas as pd\n",
    "\n",
    "\n",
    "plt.style.use(\"fivethirtyeight\")\n",
    "\n",
    "# time_x = []\n",
    "q = SQLite()\n",
    "\n",
    "time_y = [q.select_avg_result(\"Query 1\", \"case 1\"),\n",
    "          q.select_avg_result(\"Query 1\", \"case 2\"),\n",
    "          q.select_avg_result(\"Query 1\", \"case 3\"),\n",
    "          q.select_avg_result(\"Query 1\", \"case 4\")]\n",
    "case_x = [\"sample data base\",\n",
    "          \"with index\",\n",
    "          \"Replication\",\n",
    "          \"Sharding\"]\n",
    "\n",
    "\n",
    "plt.barh(case_x, time_y, color=\"#444444\", label=\"All Case\")\n",
    "\n",
    "# # py_dev_y = [45372, 48876, 53850, 57287, 63016,\n",
    "# #             65998, 70003, 70000, 71496, 75370, 83640]\n",
    "# # plt.barh(ages_x, py_dev_y, color=\"#008fd5\", label=\"Python\")\n",
    "\n",
    "# # js_dev_y = [37810, 43515, 46823, 49293, 53437,\n",
    "# #             56373, 62375, 66674, 68745, 68746, 74583]\n",
    "# # plt.barh(ages_x, js_dev_y, color=\"#e5ae38\", label=\"JavaScript\")\n",
    "\n",
    "plt.legend()\n",
    "\n",
    "# plt.title(\"Median Salary (USD) by Age\")\n",
    "plt.xlabel(\"Time (ms)\")\n",
    "plt.ylabel(\"Case\")\n",
    "\n",
    "plt.tight_layout()\n",
    "\n",
    "plt.show()\n"
   ]
  },
  {
   "cell_type": "code",
   "execution_count": 3,
   "metadata": {},
   "outputs": [
    {
     "data": {
      "image/png": "[encoded data removed]",
      "text/plain": [
       "<Figure size 432x288 with 1 Axes>"
      ]
     },
     "metadata": {
      "needs_background": "light"
     },
     "output_type": "display_data"
    }
   ],
   "source": [
    "import matplotlib.pyplot as plt\n",
    "\n",
    "data = {'milk': 60, 'water': 10}\n",
    "names = list(data.keys())\n",
    "values = list(data.values())\n",
    "\n",
    "plt.bar(range(len(data)), values, tick_label=names)\n",
    "plt.show()\n"
   ]
  },
  {
   "cell_type": "code",
   "execution_count": 4,
   "metadata": {},
   "outputs": [
    {
     "data": {
      "image/png": "[encoded data removed]",
      "text/plain": [
       "<Figure size 432x288 with 1 Axes>"
      ]
     },
     "metadata": {},
     "output_type": "display_data"
    }
   ],
   "source": [
    "from matplotlib import pyplot as plt\n",
    "\n",
    "plt.style.use(\"fivethirtyeight\")\n",
    "\n",
    "ages_x = [\"a\", \"b\", \"c\", \"d\", \"e\", \"f\", \"g\", \"h\", \"i\", \"j\", \"l\"]\n",
    "\n",
    "dev_y = [38496, 42000, 46752, 49320, 53200,\n",
    "         56000, 62316, 64928, 67317, 68748, 73752]\n",
    "plt.barh(ages_x, dev_y, color=\"#444444\", label=\"All Devs\")\n",
    "\n",
    "# py_dev_y = [45372, 48876, 53850, 57287, 63016,\n",
    "#             65998, 70003, 70000, 71496, 75370, 83640]\n",
    "# plt.plot(ages_x, py_dev_y, color=\"#008fd5\", label=\"Python\")\n",
    "\n",
    "# js_dev_y = [37810, 43515, 46823, 49293, 53437,\n",
    "#             56373, 62375, 66674, 68745, 68746, 74583]\n",
    "# plt.plot(ages_x, js_dev_y, color=\"#e5ae38\", label=\"JavaScript\")\n",
    "\n",
    "plt.legend()\n",
    "\n",
    "plt.title(\"Median Salary (USD) by Age\")\n",
    "plt.xlabel(\"Ages\")\n",
    "plt.ylabel(\"Median Salary (USD)\")\n",
    "\n",
    "plt.tight_layout()\n",
    "\n",
    "plt.show()\n"
   ]
  }
 ],
 "metadata": {
  "kernelspec": {
   "display_name": "Python 3 (ipykernel)",
   "language": "python",
   "name": "python3"
  },
  "language_info": {
   "codemirror_mode": {
    "name": "ipython",
    "version": 3
   },
   "file_extension": ".py",
   "mimetype": "text/x-python",
   "name": "python",
   "nbconvert_exporter": "python",
   "pygments_lexer": "ipython3",
   "version": "3.10.2"
  },
  "orig_nbformat": 4
 },
 "nbformat": 4,
 "nbformat_minor": 2
}
